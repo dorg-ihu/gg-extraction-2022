{
 "cells": [
  {
   "cell_type": "code",
   "execution_count": null,
   "metadata": {},
   "outputs": [],
   "source": [
    "import pandas as pd\n",
    "df = pd.read_csv('/Users/alexmichailidis/gg-extraction-2022/data/final_kodiko_data.csv')"
   ]
  },
  {
   "cell_type": "code",
   "execution_count": 46,
   "metadata": {},
   "outputs": [],
   "source": [
    "#17 files to extract\n",
    "org_list = [\"Π.Δ. 97/2017\", \"Π.Δ. 5/2022\", \"Π.Δ. 6/2021\", \"Π.Δ. 141/2017\", \"Π.Δ. 134/2017\", \"Π.Δ. 141/2017\", \"Π.Δ. 106/2020\", \"Π.Δ. 13/2018\", \"Π.Δ. 142/2017\", \"Π.Δ. 18/2018\", \"Π.Δ. 132/2017\", \"Π.Δ. 4/2018\", \"Π.Δ. 62/2019\", \"Π.Δ. 40/2020\", \"Π.Δ. 127/2017\", \"Π.Δ. 121/2017\", \"Π.Δ. 123/2017\"]"
   ]
  },
  {
   "cell_type": "code",
   "execution_count": 48,
   "metadata": {},
   "outputs": [],
   "source": [
    "#make a check\n",
    "a = df['identity'].unique()\n",
    "for i in org_list:\n",
    "    if i in a:\n",
    "        continue\n",
    "    else:\n",
    "        print (i, False)"
   ]
  },
  {
   "cell_type": "code",
   "execution_count": 51,
   "metadata": {},
   "outputs": [],
   "source": [
    "rslt_df = df.loc[df['identity'].isin(org_list)] \n"
   ]
  },
  {
   "cell_type": "code",
   "execution_count": 52,
   "metadata": {},
   "outputs": [
    {
     "data": {
      "text/html": [
       "<div>\n",
       "<style scoped>\n",
       "    .dataframe tbody tr th:only-of-type {\n",
       "        vertical-align: middle;\n",
       "    }\n",
       "\n",
       "    .dataframe tbody tr th {\n",
       "        vertical-align: top;\n",
       "    }\n",
       "\n",
       "    .dataframe thead th {\n",
       "        text-align: right;\n",
       "    }\n",
       "</style>\n",
       "<table border=\"1\" class=\"dataframe\">\n",
       "  <thead>\n",
       "    <tr style=\"text-align: right;\">\n",
       "      <th></th>\n",
       "      <th>identity</th>\n",
       "      <th>key</th>\n",
       "      <th>title</th>\n",
       "      <th>content</th>\n",
       "      <th>level</th>\n",
       "    </tr>\n",
       "  </thead>\n",
       "  <tbody>\n",
       "    <tr>\n",
       "      <th>1136</th>\n",
       "      <td>Π.Δ. 5/2022</td>\n",
       "      <td>ΜΕΡΟΣ ΠΡΩΤΟ</td>\n",
       "      <td>ΑΠΟΣΤΟΛΗ, ΔΙΑΡΘΡΩΣΗ ΚΑΙ ΑΡΜΟΔΙΟΤΗΤΕΣ</td>\n",
       "      <td>NaN</td>\n",
       "      <td>0</td>\n",
       "    </tr>\n",
       "    <tr>\n",
       "      <th>1137</th>\n",
       "      <td>Π.Δ. 5/2022</td>\n",
       "      <td>Κεφάλαιο Α</td>\n",
       "      <td>ΓΕΝΙΚΑ</td>\n",
       "      <td>NaN</td>\n",
       "      <td>1</td>\n",
       "    </tr>\n",
       "    <tr>\n",
       "      <th>1138</th>\n",
       "      <td>Π.Δ. 5/2022</td>\n",
       "      <td>Άρθρο 1</td>\n",
       "      <td>Αποστολή</td>\n",
       "      <td>NaN</td>\n",
       "      <td>2</td>\n",
       "    </tr>\n",
       "    <tr>\n",
       "      <th>1139</th>\n",
       "      <td>Π.Δ. 5/2022</td>\n",
       "      <td>Παρ.1</td>\n",
       "      <td>NaN</td>\n",
       "      <td>1. Αποστολή του Υπουργείου Ανάπτυξης και Επενδ...</td>\n",
       "      <td>3</td>\n",
       "    </tr>\n",
       "    <tr>\n",
       "      <th>1140</th>\n",
       "      <td>Π.Δ. 5/2022</td>\n",
       "      <td>Παρ.2</td>\n",
       "      <td>NaN</td>\n",
       "      <td>2. Το Υπουργείο Ανάπτυξης και Επενδύσεων μεριμ...</td>\n",
       "      <td>3</td>\n",
       "    </tr>\n",
       "    <tr>\n",
       "      <th>...</th>\n",
       "      <td>...</td>\n",
       "      <td>...</td>\n",
       "      <td>...</td>\n",
       "      <td>...</td>\n",
       "      <td>...</td>\n",
       "    </tr>\n",
       "    <tr>\n",
       "      <th>18809</th>\n",
       "      <td>Π.Δ. 97/2017</td>\n",
       "      <td>Άρθρο 27</td>\n",
       "      <td>Τελικές διατάξεις - Καταργούμενες διατάξεις - ...</td>\n",
       "      <td>NaN</td>\n",
       "      <td>1</td>\n",
       "    </tr>\n",
       "    <tr>\n",
       "      <th>18810</th>\n",
       "      <td>Π.Δ. 97/2017</td>\n",
       "      <td>Παρ.1</td>\n",
       "      <td>NaN</td>\n",
       "      <td>1. Οι υπηρετούντες κατά την έναρξη ισχύος του ...</td>\n",
       "      <td>2</td>\n",
       "    </tr>\n",
       "    <tr>\n",
       "      <th>18811</th>\n",
       "      <td>Π.Δ. 97/2017</td>\n",
       "      <td>Παρ.2</td>\n",
       "      <td>NaN</td>\n",
       "      <td>2. Οι υπηρετούντες, κατά την έναρξη ισχύος του...</td>\n",
       "      <td>2</td>\n",
       "    </tr>\n",
       "    <tr>\n",
       "      <th>18812</th>\n",
       "      <td>Π.Δ. 97/2017</td>\n",
       "      <td>Παρ.3</td>\n",
       "      <td>NaN</td>\n",
       "      <td>3. Από την έναρξη ισχύος του παρόντος διατάγμα...</td>\n",
       "      <td>2</td>\n",
       "    </tr>\n",
       "    <tr>\n",
       "      <th>18813</th>\n",
       "      <td>Π.Δ. 97/2017</td>\n",
       "      <td>Παρ.4</td>\n",
       "      <td>NaN</td>\n",
       "      <td>4. Η ισχύς του παρόντος διατάγματος αρχίζει εί...</td>\n",
       "      <td>2</td>\n",
       "    </tr>\n",
       "  </tbody>\n",
       "</table>\n",
       "<p>3942 rows × 5 columns</p>\n",
       "</div>"
      ],
      "text/plain": [
       "           identity          key  \\\n",
       "1136    Π.Δ. 5/2022  ΜΕΡΟΣ ΠΡΩΤΟ   \n",
       "1137    Π.Δ. 5/2022   Κεφάλαιο Α   \n",
       "1138    Π.Δ. 5/2022      Άρθρο 1   \n",
       "1139    Π.Δ. 5/2022        Παρ.1   \n",
       "1140    Π.Δ. 5/2022        Παρ.2   \n",
       "...             ...          ...   \n",
       "18809  Π.Δ. 97/2017     Άρθρο 27   \n",
       "18810  Π.Δ. 97/2017        Παρ.1   \n",
       "18811  Π.Δ. 97/2017        Παρ.2   \n",
       "18812  Π.Δ. 97/2017        Παρ.3   \n",
       "18813  Π.Δ. 97/2017        Παρ.4   \n",
       "\n",
       "                                                   title  \\\n",
       "1136                ΑΠΟΣΤΟΛΗ, ΔΙΑΡΘΡΩΣΗ ΚΑΙ ΑΡΜΟΔΙΟΤΗΤΕΣ   \n",
       "1137                                              ΓΕΝΙΚΑ   \n",
       "1138                                            Αποστολή   \n",
       "1139                                                 NaN   \n",
       "1140                                                 NaN   \n",
       "...                                                  ...   \n",
       "18809  Τελικές διατάξεις - Καταργούμενες διατάξεις - ...   \n",
       "18810                                                NaN   \n",
       "18811                                                NaN   \n",
       "18812                                                NaN   \n",
       "18813                                                NaN   \n",
       "\n",
       "                                                 content  level  \n",
       "1136                                                 NaN      0  \n",
       "1137                                                 NaN      1  \n",
       "1138                                                 NaN      2  \n",
       "1139   1. Αποστολή του Υπουργείου Ανάπτυξης και Επενδ...      3  \n",
       "1140   2. Το Υπουργείο Ανάπτυξης και Επενδύσεων μεριμ...      3  \n",
       "...                                                  ...    ...  \n",
       "18809                                                NaN      1  \n",
       "18810  1. Οι υπηρετούντες κατά την έναρξη ισχύος του ...      2  \n",
       "18811  2. Οι υπηρετούντες, κατά την έναρξη ισχύος του...      2  \n",
       "18812  3. Από την έναρξη ισχύος του παρόντος διατάγμα...      2  \n",
       "18813  4. Η ισχύς του παρόντος διατάγματος αρχίζει εί...      2  \n",
       "\n",
       "[3942 rows x 5 columns]"
      ]
     },
     "execution_count": 52,
     "metadata": {},
     "output_type": "execute_result"
    }
   ],
   "source": [
    "rslt_df"
   ]
  },
  {
   "cell_type": "code",
   "execution_count": 54,
   "metadata": {},
   "outputs": [
    {
     "name": "stderr",
     "output_type": "stream",
     "text": [
      "<ipython-input-54-71186e719077>:1: SettingWithCopyWarning: \n",
      "A value is trying to be set on a copy of a slice from a DataFrame\n",
      "\n",
      "See the caveats in the documentation: https://pandas.pydata.org/pandas-docs/stable/user_guide/indexing.html#returning-a-view-versus-a-copy\n",
      "  rslt_df.dropna(subset=['content'], inplace=True)\n"
     ]
    }
   ],
   "source": [
    "rslt_df.dropna(subset=['content'], inplace=True)"
   ]
  },
  {
   "cell_type": "code",
   "execution_count": 56,
   "metadata": {},
   "outputs": [],
   "source": [
    "rslt_df[\"content\"].to_csv(r'/Users/alexmichailidis/gg-extraction-2022/data/orgs_pd.txt', header=None, index=None, sep=' ')"
   ]
  }
 ],
 "metadata": {
  "kernelspec": {
   "display_name": "Python 3.8.8 ('base')",
   "language": "python",
   "name": "python3"
  },
  "language_info": {
   "codemirror_mode": {
    "name": "ipython",
    "version": 3
   },
   "file_extension": ".py",
   "mimetype": "text/x-python",
   "name": "python",
   "nbconvert_exporter": "python",
   "pygments_lexer": "ipython3",
   "version": "3.8.8"
  },
  "orig_nbformat": 4,
  "vscode": {
   "interpreter": {
    "hash": "6d5740253967cb97090db0ea7fd8c56244c72c51cc6f624e1d067eac501d08a5"
   }
  }
 },
 "nbformat": 4,
 "nbformat_minor": 2
}

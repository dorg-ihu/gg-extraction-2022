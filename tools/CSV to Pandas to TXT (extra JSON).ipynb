{
 "cells": [
  {
   "cell_type": "code",
   "execution_count": 11,
   "metadata": {},
   "outputs": [],
   "source": [
    "import pandas as pd\n",
    "df = pd.read_csv('/Users/alexmichailidis/gg-extraction-2022/data/final_kodiko_data.csv')"
   ]
  },
  {
   "cell_type": "code",
   "execution_count": 12,
   "metadata": {},
   "outputs": [],
   "source": [
    "df[\"content\"][0:500].to_json(r'/Users/alexmichailidis/gg-extraction-2022/data/newpd.json', force_ascii=False)"
   ]
  },
  {
   "cell_type": "code",
   "execution_count": 23,
   "metadata": {},
   "outputs": [],
   "source": [
    "#to text\n",
    "df[\"content\"][0:500].to_csv(r'/Users/alexmichailidis/gg-extraction-2022/data/newpd.txt', header=None, index=None, sep=' ')"
   ]
  },
  {
   "cell_type": "code",
   "execution_count": 4,
   "metadata": {},
   "outputs": [
    {
     "ename": "NameError",
     "evalue": "name 'data' is not defined",
     "output_type": "error",
     "traceback": [
      "\u001b[0;31m---------------------------------------------------------------------------\u001b[0m",
      "\u001b[0;31mNameError\u001b[0m                                 Traceback (most recent call last)",
      "\u001b[0;32m<ipython-input-4-37fcd9872b19>\u001b[0m in \u001b[0;36m<module>\u001b[0;34m\u001b[0m\n\u001b[1;32m      1\u001b[0m \u001b[0;32mwith\u001b[0m \u001b[0mopen\u001b[0m\u001b[0;34m(\u001b[0m\u001b[0;34m'/Users/alexmichailidis/gg-extraction-2022/newpd.jsonl'\u001b[0m\u001b[0;34m,\u001b[0m \u001b[0;34m'w'\u001b[0m\u001b[0;34m)\u001b[0m \u001b[0;32mas\u001b[0m \u001b[0mfp\u001b[0m\u001b[0;34m:\u001b[0m\u001b[0;34m\u001b[0m\u001b[0;34m\u001b[0m\u001b[0m\n\u001b[0;32m----> 2\u001b[0;31m     \u001b[0mjson_string\u001b[0m \u001b[0;34m=\u001b[0m \u001b[0mjson\u001b[0m\u001b[0;34m.\u001b[0m\u001b[0mdumps\u001b[0m\u001b[0;34m(\u001b[0m\u001b[0mdata\u001b[0m\u001b[0;34m,\u001b[0m \u001b[0mensure_ascii\u001b[0m\u001b[0;34m=\u001b[0m\u001b[0;32mFalse\u001b[0m\u001b[0;34m)\u001b[0m\u001b[0;34m.\u001b[0m\u001b[0mencode\u001b[0m\u001b[0;34m(\u001b[0m\u001b[0;34m'latin1'\u001b[0m\u001b[0;34m)\u001b[0m\u001b[0;34m.\u001b[0m\u001b[0mdecode\u001b[0m\u001b[0;34m(\u001b[0m\u001b[0;34m'utf8'\u001b[0m\u001b[0;34m)\u001b[0m\u001b[0;34m\u001b[0m\u001b[0;34m\u001b[0m\u001b[0m\n\u001b[0m\u001b[1;32m      3\u001b[0m     \u001b[0mfp\u001b[0m\u001b[0;34m.\u001b[0m\u001b[0mwrite\u001b[0m\u001b[0;34m(\u001b[0m\u001b[0mjson_string\u001b[0m\u001b[0;34m)\u001b[0m\u001b[0;34m\u001b[0m\u001b[0;34m\u001b[0m\u001b[0m\n",
      "\u001b[0;31mNameError\u001b[0m: name 'data' is not defined"
     ]
    }
   ],
   "source": [
    "#json\n",
    "#df[\"content\"][0:500].to_json(\"/Users/alexmichailidis/gg-extraction-2022/data/newpd2.json\", orient=\"records\", lines=True, force_ascii=False)\n"
   ]
  },
  {
   "cell_type": "code",
   "execution_count": 200,
   "metadata": {},
   "outputs": [
    {
     "name": "stdout",
     "output_type": "stream",
     "text": [
      "{'text': '\"Με το παρόν διάταγμα, αφού λήφθηκαν υπόψη οι ιδιαιτερότητες της αποστολής των Ομάδων Προστασίας Πανεπιστημιακών Ιδρυμάτων (Ο.Π.Π.Ι.', '_input_hash': -1885071359, '_task_hash': -1138975044, 'tokens': [{'text': '\"', 'start': 0, 'end': 1, 'id': 0, 'ws': False}, {'text': 'Με', 'start': 1, 'end': 3, 'id': 1, 'ws': True}, {'text': 'το', 'start': 4, 'end': 6, 'id': 2, 'ws': True}, {'text': 'παρόν', 'start': 7, 'end': 12, 'id': 3, 'ws': True}, {'text': 'διάταγμα', 'start': 13, 'end': 21, 'id': 4, 'ws': False}, {'text': ',', 'start': 21, 'end': 22, 'id': 5, 'ws': True}, {'text': 'αφού', 'start': 23, 'end': 27, 'id': 6, 'ws': True}, {'text': 'λήφθηκαν', 'start': 28, 'end': 36, 'id': 7, 'ws': True}, {'text': 'υπόψη', 'start': 37, 'end': 42, 'id': 8, 'ws': True}, {'text': 'οι', 'start': 43, 'end': 45, 'id': 9, 'ws': True}, {'text': 'ιδιαιτερότητες', 'start': 46, 'end': 60, 'id': 10, 'ws': True}, {'text': 'της', 'start': 61, 'end': 64, 'id': 11, 'ws': True}, {'text': 'αποστολής', 'start': 65, 'end': 74, 'id': 12, 'ws': True}, {'text': 'των', 'start': 75, 'end': 78, 'id': 13, 'ws': True}, {'text': 'Ομάδων', 'start': 79, 'end': 85, 'id': 14, 'ws': True}, {'text': 'Προστασίας', 'start': 86, 'end': 96, 'id': 15, 'ws': True}, {'text': 'Πανεπιστημιακών', 'start': 97, 'end': 112, 'id': 16, 'ws': True}, {'text': 'Ιδρυμάτων', 'start': 113, 'end': 122, 'id': 17, 'ws': True}, {'text': '(', 'start': 123, 'end': 124, 'id': 18, 'ws': False}, {'text': 'Ο.Π.Π.Ι', 'start': 124, 'end': 131, 'id': 19, 'ws': False}, {'text': '.', 'start': 131, 'end': 132, 'id': 20, 'ws': False}], 'spans': [{'start': 79, 'end': 122, 'token_start': 14, 'token_end': 17, 'label': 'ORG'}, {'start': 124, 'end': 131, 'token_start': 19, 'token_end': 19, 'label': 'ORG'}], '_is_binary': False, '_view_id': 'ner_manual', 'answer': 'accept', '_timestamp': 1662141583}\n"
     ]
    }
   ],
   "source": [
    "#unicode of JSON exported file !Error on multiple lines\n",
    "\n",
    "with open(\"/Users/alexmichailidis/gg-extraction-2022/newpd2.jsonl\", \"r\", encoding='utf-8') as read_file:\n",
    "    sampleData = json.load(read_file)\n",
    "print(sampleData)\n"
   ]
  },
  {
   "cell_type": "code",
   "execution_count": null,
   "metadata": {},
   "outputs": [],
   "source": []
  }
 ],
 "metadata": {
  "kernelspec": {
   "display_name": "Python 3.8.8 ('base')",
   "language": "python",
   "name": "python3"
  },
  "language_info": {
   "codemirror_mode": {
    "name": "ipython",
    "version": 3
   },
   "file_extension": ".py",
   "mimetype": "text/x-python",
   "name": "python",
   "nbconvert_exporter": "python",
   "pygments_lexer": "ipython3",
   "version": "3.8.8"
  },
  "orig_nbformat": 4,
  "vscode": {
   "interpreter": {
    "hash": "6d5740253967cb97090db0ea7fd8c56244c72c51cc6f624e1d067eac501d08a5"
   }
  }
 },
 "nbformat": 4,
 "nbformat_minor": 2
}

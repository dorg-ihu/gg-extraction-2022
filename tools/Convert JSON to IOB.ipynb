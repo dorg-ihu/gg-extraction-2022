{
 "cells": [
  {
   "cell_type": "markdown",
   "metadata": {},
   "source": [
    "### Packages"
   ]
  },
  {
   "cell_type": "code",
   "execution_count": 1,
   "metadata": {},
   "outputs": [],
   "source": [
    "from prodigy.components.db import connect\n",
    "import spacy\n",
    "import pandas as pd"
   ]
  },
  {
   "cell_type": "markdown",
   "metadata": {},
   "source": [
    "## Personal Solution\n",
    "\n",
    "<p> Extract Tokens and Tags in list (change \"O-\" with \"O\"), append each list into a column of Dataframe, combine columns and export them to a txt.file </p>"
   ]
  },
  {
   "cell_type": "code",
   "execution_count": 28,
   "metadata": {},
   "outputs": [
    {
     "data": {
      "text/plain": [
       "16853"
      ]
     },
     "execution_count": 28,
     "metadata": {},
     "output_type": "execute_result"
    }
   ],
   "source": [
    "words =[]\n",
    "\n",
    "db = connect()\n",
    "prodigy_annotations = db.get_dataset(\"orgs_pd\")\n",
    "examples = ((eg[\"text\"], eg) for eg in prodigy_annotations)\n",
    "nlp =spacy.load(\"el_core_news_sm\")\n",
    "for doc, eg in nlp.pipe(examples, as_tuples=True):\n",
    "    for token in eg[\"tokens\"]:\n",
    "        words.append(token[\"text\"])\n",
    "    words.append(\"\\n\") #insert gap required for IOB tagging\n",
    "len(words)\n"
   ]
  },
  {
   "cell_type": "code",
   "execution_count": 29,
   "metadata": {},
   "outputs": [
    {
     "data": {
      "text/plain": [
       "16853"
      ]
     },
     "execution_count": 29,
     "metadata": {},
     "output_type": "execute_result"
    }
   ],
   "source": [
    "tags=[]\n",
    "prodigy_annotations = db.get_dataset(\"orgs_pd\")\n",
    "examples = ((eg[\"text\"], eg) for eg in prodigy_annotations)\n",
    "nlp =spacy.load(\"el_core_news_sm\")\n",
    "for doc, eg in nlp.pipe(examples, as_tuples=True):\n",
    "    doc.ents = [doc.char_span(s[\"start\"], s[\"end\"], s[\"label\"]) for s in eg[\"spans\"]]\n",
    "    for t in doc:\n",
    "        if t.ent_iob_:\n",
    "            tags.append(f\"{t.ent_iob_}-{t.ent_type_}\")\n",
    "        else:\n",
    "            tags.append(\"O\")\n",
    "    tags.append(\"\\n\")  #insert gap required for IOB tagging\n",
    "tags = [w.replace('O-', 'O') for w in tags]\n",
    "len(tags)"
   ]
  },
  {
   "cell_type": "code",
   "execution_count": 30,
   "metadata": {},
   "outputs": [],
   "source": [
    "df = pd.DataFrame(\n",
    "    {'Tokens': words,\n",
    "    'Tags': tags,\n",
    "     })"
   ]
  },
  {
   "cell_type": "code",
   "execution_count": 31,
   "metadata": {},
   "outputs": [
    {
     "data": {
      "text/html": [
       "<div>\n",
       "<style scoped>\n",
       "    .dataframe tbody tr th:only-of-type {\n",
       "        vertical-align: middle;\n",
       "    }\n",
       "\n",
       "    .dataframe tbody tr th {\n",
       "        vertical-align: top;\n",
       "    }\n",
       "\n",
       "    .dataframe thead th {\n",
       "        text-align: right;\n",
       "    }\n",
       "</style>\n",
       "<table border=\"1\" class=\"dataframe\">\n",
       "  <thead>\n",
       "    <tr style=\"text-align: right;\">\n",
       "      <th></th>\n",
       "      <th>Tokens</th>\n",
       "      <th>Tags</th>\n",
       "    </tr>\n",
       "  </thead>\n",
       "  <tbody>\n",
       "    <tr>\n",
       "      <th>0</th>\n",
       "      <td>\"</td>\n",
       "      <td>O</td>\n",
       "    </tr>\n",
       "    <tr>\n",
       "      <th>1</th>\n",
       "      <td>1.</td>\n",
       "      <td>O</td>\n",
       "    </tr>\n",
       "    <tr>\n",
       "      <th>2</th>\n",
       "      <td>Αποστολή</td>\n",
       "      <td>O</td>\n",
       "    </tr>\n",
       "    <tr>\n",
       "      <th>3</th>\n",
       "      <td>του</td>\n",
       "      <td>O</td>\n",
       "    </tr>\n",
       "    <tr>\n",
       "      <th>4</th>\n",
       "      <td>Υπουργείου</td>\n",
       "      <td>B-ORG</td>\n",
       "    </tr>\n",
       "    <tr>\n",
       "      <th>5</th>\n",
       "      <td>Ανάπτυξης</td>\n",
       "      <td>I-ORG</td>\n",
       "    </tr>\n",
       "    <tr>\n",
       "      <th>6</th>\n",
       "      <td>και</td>\n",
       "      <td>I-ORG</td>\n",
       "    </tr>\n",
       "    <tr>\n",
       "      <th>7</th>\n",
       "      <td>Επενδύσεων</td>\n",
       "      <td>I-ORG</td>\n",
       "    </tr>\n",
       "    <tr>\n",
       "      <th>8</th>\n",
       "      <td>είναι</td>\n",
       "      <td>O</td>\n",
       "    </tr>\n",
       "    <tr>\n",
       "      <th>9</th>\n",
       "      <td>η</td>\n",
       "      <td>O</td>\n",
       "    </tr>\n",
       "    <tr>\n",
       "      <th>10</th>\n",
       "      <td>ισόρροπη</td>\n",
       "      <td>O</td>\n",
       "    </tr>\n",
       "    <tr>\n",
       "      <th>11</th>\n",
       "      <td>οικονομική</td>\n",
       "      <td>O</td>\n",
       "    </tr>\n",
       "    <tr>\n",
       "      <th>12</th>\n",
       "      <td>ανάπτυξη</td>\n",
       "      <td>O</td>\n",
       "    </tr>\n",
       "    <tr>\n",
       "      <th>13</th>\n",
       "      <td>των</td>\n",
       "      <td>O</td>\n",
       "    </tr>\n",
       "    <tr>\n",
       "      <th>14</th>\n",
       "      <td>περιφερειών</td>\n",
       "      <td>O</td>\n",
       "    </tr>\n",
       "  </tbody>\n",
       "</table>\n",
       "</div>"
      ],
      "text/plain": [
       "         Tokens   Tags\n",
       "0             \"      O\n",
       "1            1.      O\n",
       "2      Αποστολή      O\n",
       "3           του      O\n",
       "4    Υπουργείου  B-ORG\n",
       "5     Ανάπτυξης  I-ORG\n",
       "6           και  I-ORG\n",
       "7    Επενδύσεων  I-ORG\n",
       "8         είναι      O\n",
       "9             η      O\n",
       "10     ισόρροπη      O\n",
       "11   οικονομική      O\n",
       "12     ανάπτυξη      O\n",
       "13          των      O\n",
       "14  περιφερειών      O"
      ]
     },
     "execution_count": 31,
     "metadata": {},
     "output_type": "execute_result"
    }
   ],
   "source": [
    "df[0:15]"
   ]
  },
  {
   "cell_type": "code",
   "execution_count": 32,
   "metadata": {},
   "outputs": [
    {
     "data": {
      "text/plain": [
       "0                  \" O\n",
       "1                 1. O\n",
       "2           Αποστολή O\n",
       "3                του O\n",
       "4     Υπουργείου B-ORG\n",
       "5      Ανάπτυξης I-ORG\n",
       "6            και I-ORG\n",
       "7     Επενδύσεων I-ORG\n",
       "8              είναι O\n",
       "9                  η O\n",
       "10          ισόρροπη O\n",
       "11        οικονομική O\n",
       "12          ανάπτυξη O\n",
       "13               των O\n",
       "14       περιφερειών O\n",
       "Name: join, dtype: object"
      ]
     },
     "execution_count": 32,
     "metadata": {},
     "output_type": "execute_result"
    }
   ],
   "source": [
    "df['join'] = df['Tokens'] + ' ' + df['Tags']\n",
    "df['join'][0:15]"
   ]
  },
  {
   "cell_type": "code",
   "execution_count": 33,
   "metadata": {},
   "outputs": [],
   "source": [
    "with open('/Users/alexmichailidis/gg-extraction-2022/data/ORG_IOB_tags.txt', 'w') as f:\n",
    "    for text in df['join'].tolist():\n",
    "        f.write(text + '\\n')"
   ]
  },
  {
   "cell_type": "markdown",
   "metadata": {},
   "source": [
    "## Found Solutuion (Partial)"
   ]
  },
  {
   "cell_type": "code",
   "execution_count": null,
   "metadata": {},
   "outputs": [],
   "source": [
    "#convert to IOB format\n",
    "from prodigy.components.db import connect\n",
    "import spacy\n",
    "\n",
    "db = connect()\n",
    "prodigy_annotations = db.get_dataset(\"pd_ner\")\n",
    "examples = ((eg[\"text\"], eg) for eg in prodigy_annotations)\n",
    "nlp =spacy.load(\"el_core_news_sm\")\n",
    "for doc, eg in nlp.pipe(examples, as_tuples=True):\n",
    "    doc.ents = [doc.char_span(s[\"start\"], s[\"end\"], s[\"label\"]) for s in eg[\"spans\"]]\n",
    "    iob_tags = [f\"{t.ent_iob_}-{t.ent_type_}\" if t.ent_iob_ else \"O\" for t in doc]\n",
    "    print(doc.text, iob_tags)"
   ]
  },
  {
   "cell_type": "markdown",
   "metadata": {},
   "source": [
    "## Found Solutuion (Token Based Converted)"
   ]
  },
  {
   "cell_type": "code",
   "execution_count": null,
   "metadata": {},
   "outputs": [],
   "source": [
    "db = connect()\n",
    "prodigy_annotations = db.get_dataset(\"pd_ner\")\n",
    "examples = ((eg[\"text\"], eg) for eg in prodigy_annotations)\n",
    "nlp =spacy.load(\"el_core_news_sm\")\n",
    "for doc, eg in nlp.pipe(examples, as_tuples=True):\n",
    "    words = [token[\"text\"] for token in eg[\"tokens\"]]\n",
    "    doc.ents = [doc.char_span(s[\"start\"], s[\"end\"], s[\"label\"]) for s in eg[\"spans\"]]\n",
    "    iob_tags = [f\"{t.ent_iob_}-{t.ent_type_}\" if t.ent_iob_ else \"O\" for t in doc]\n",
    "    print(words, iob_tags)"
   ]
  }
 ],
 "metadata": {
  "kernelspec": {
   "display_name": "Python 3.8.8 ('base')",
   "language": "python",
   "name": "python3"
  },
  "language_info": {
   "codemirror_mode": {
    "name": "ipython",
    "version": 3
   },
   "file_extension": ".py",
   "mimetype": "text/x-python",
   "name": "python",
   "nbconvert_exporter": "python",
   "pygments_lexer": "ipython3",
   "version": "3.8.8"
  },
  "orig_nbformat": 4,
  "vscode": {
   "interpreter": {
    "hash": "6d5740253967cb97090db0ea7fd8c56244c72c51cc6f624e1d067eac501d08a5"
   }
  }
 },
 "nbformat": 4,
 "nbformat_minor": 2
}

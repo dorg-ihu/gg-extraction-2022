{
 "cells": [
  {
   "cell_type": "code",
   "execution_count": 225,
   "metadata": {},
   "outputs": [],
   "source": [
    "import json\n",
    "\n",
    "relations = []\n",
    "for line in open('/Users/alexmichailidis/gg-extraction-2022/er_orgs.jsonl', 'r'):\n",
    "    relations.append(json.loads(line))"
   ]
  },
  {
   "cell_type": "code",
   "execution_count": 226,
   "metadata": {},
   "outputs": [
    {
     "data": {
      "text/plain": [
       "191"
      ]
     },
     "execution_count": 226,
     "metadata": {},
     "output_type": "execute_result"
    }
   ],
   "source": [
    "#relations.pop(139)#not text in an org \n",
    "len(relations)"
   ]
  },
  {
   "cell_type": "code",
   "execution_count": 227,
   "metadata": {},
   "outputs": [],
   "source": [
    "#there was a problem in some cases during the export and in the spans (entities) it didn't get the text and the tye of entity. \n",
    "#This code makes the corrections\n",
    "\n",
    "for r in range(len(relations)):\n",
    "\n",
    "    for item in relations[r][\"spans\"]:\n",
    "        if len(item) < 7:\n",
    "\n",
    "            words=[]\n",
    "            sentence=[]\n",
    "            for i in range(len(relations[r][\"tokens\"])):\n",
    "                if relations[r][\"tokens\"][i][\"start\"] == item[\"start\"]:\n",
    "                    for j in range(i,len(relations[r][\"tokens\"])):\n",
    "                        words.append(relations[r][\"tokens\"][j])\n",
    "            \n",
    "            for word in words:\n",
    "                sentence.append(word[\"text\"])\n",
    "                if item[\"end\"]== word[\"end\"]:\n",
    "                    text=' '.join(word for word in sentence)\n",
    "                    item[\"text\"]= text\n",
    "                    item[\"type\"]= 'span'\n",
    "                    break"
   ]
  },
  {
   "cell_type": "code",
   "execution_count": 228,
   "metadata": {},
   "outputs": [],
   "source": [
    "#Transform based on the input desired by sample\n",
    "\n",
    "desired_key_list = [\"em1Text\", \"em2Text\", \"label\"]\n",
    "desired_order_list = [\"start\", \"label\", \"text\"]\n",
    "\n",
    "\n",
    "for i in range(len(relations)-1,-1,-1):\n",
    "    if relations[i][\"answer\"] == 'accept':\n",
    "        \n",
    "        #first part remove unnecessary values\n",
    "        relations[i].pop(\"_input_hash\")\n",
    "        relations[i].pop(\"_task_hash\")\n",
    "        relations[i].pop(\"_is_binary\")\n",
    "        #relations[i].pop(\"meta\")\n",
    "        relations[i].pop(\"tokens\")\n",
    "        relations[i].pop(\"_view_id\")\n",
    "        relations[i].pop(\"_timestamp\")\n",
    "        relations[i].pop(\"answer\")\n",
    "\n",
    "        #second part transform relations\n",
    "        for lst in range(len(relations[i][\"relations\"])):\n",
    "            \n",
    "            relations[i][\"relations\"][lst].pop('head')\n",
    "            relations[i][\"relations\"][lst].pop('child')\n",
    "            relations[i][\"relations\"][lst].pop('color')\n",
    "            \n",
    "            for item in relations[i][\"spans\"]:\n",
    "                if relations[i][\"relations\"][lst][\"head_span\"][\"start\"] == item[\"start\"]:\n",
    "                    relations[i][\"relations\"][lst][\"em2Text\"] = item[\"text\"]\n",
    "\n",
    "                if relations[i][\"relations\"][lst][\"child_span\"][\"start\"] == item[\"start\"]:\n",
    "                        relations[i][\"relations\"][lst][\"em1Text\"] = item[\"text\"]\n",
    "                    \n",
    "\n",
    "            relations[i][\"relations\"][lst].pop('head_span')\n",
    "            relations[i][\"relations\"][lst].pop('child_span')\n",
    "            relations[i][\"relations\"][lst][\"label\"] ='Org/Org/SubOrg'\n",
    "            relations[i][\"relations\"][lst] = {k: relations[i][\"relations\"][lst][k] for k in desired_key_list}\n",
    "\n",
    "        #third part transform spans\n",
    "        j=1\n",
    "        for item in relations[i][\"spans\"]:\n",
    "                \n",
    "            item.pop(\"token_start\")\n",
    "            item.pop(\"token_end\")\n",
    "            item.pop(\"end\")\n",
    "            item.pop(\"type\")\n",
    "            item[\"start\"] = j\n",
    "            j+=1\n",
    "            \n",
    "            item = {k: item[k] for k in desired_order_list}\n",
    "            \n",
    "            \n",
    "        # finally rename keys\n",
    "        relations[i][\"sentText\"] = relations[i].pop(\"text\")\n",
    "        relations[i][\"entityMentions\"] = relations[i].pop(\"spans\")\n",
    "        relations[i][\"relationMentions\"] = relations[i].pop(\"relations\")\n",
    "    \n",
    "    else:\n",
    "        relations.pop(i)"
   ]
  },
  {
   "cell_type": "code",
   "execution_count": 230,
   "metadata": {},
   "outputs": [
    {
     "data": {
      "text/plain": [
       "{'sentText': '\"2. Η Διεύθυνση Διεθνών Σχέσεων συγκροτείται από τις ακόλουθες οργανικές μονάδες: α) Τμήμα Σχέσεων με Διεθνείς Οργανισμούς. β) Τμήμα Ευρωπαϊκών Θεμάτων, Συνεργασίας με Υπηρεσίες της Ε.Ε. και Διμερών Σχέσεων.\"',\n",
       " 'entityMentions': [{'text': 'Διεύθυνση Διεθνών Σχέσεων',\n",
       "   'start': 1,\n",
       "   'label': 'ORG'},\n",
       "  {'text': 'Τμήμα Σχέσεων με Διεθνείς Οργανισμούς',\n",
       "   'start': 2,\n",
       "   'label': 'ORG'},\n",
       "  {'text': 'Τμήμα Ευρωπαϊκών Θεμάτων, Συνεργασίας με Υπηρεσίες της Ε.Ε. και Διμερών Σχέσεων',\n",
       "   'start': 3,\n",
       "   'label': 'ORG'}],\n",
       " 'relationMentions': [{'em1Text': 'Διεύθυνση Διεθνών Σχέσεων',\n",
       "   'em2Text': 'Τμήμα Σχέσεων με Διεθνείς Οργανισμούς',\n",
       "   'label': 'Org/Org/SubOrg'},\n",
       "  {'em1Text': 'Διεύθυνση Διεθνών Σχέσεων',\n",
       "   'em2Text': 'Τμήμα Ευρωπαϊκών Θεμάτων, Συνεργασίας με Υπηρεσίες της Ε.Ε. και Διμερών Σχέσεων',\n",
       "   'label': 'Org/Org/SubOrg'}]}"
      ]
     },
     "execution_count": 230,
     "metadata": {},
     "output_type": "execute_result"
    }
   ],
   "source": [
    "#have a look on transformed data\n",
    "relations[10]"
   ]
  },
  {
   "cell_type": "code",
   "execution_count": 231,
   "metadata": {},
   "outputs": [],
   "source": [
    "#save each in a row\n",
    "\n",
    "filename = '/Users/alexmichailidis/gg-extraction-2022/data/ER/er-four-orgs.json'\n",
    "\n",
    "with open(filename, \"w\") as fp: \n",
    "    for my_dict in relations:\n",
    "        if (my_dict!=relations[-1]):\n",
    "            fp.write(json.dumps(my_dict, ensure_ascii=False)+'\\n')\n",
    "        else:\n",
    "            fp.write(json.dumps(my_dict, ensure_ascii=False)) "
   ]
  },
  {
   "cell_type": "code",
   "execution_count": null,
   "metadata": {},
   "outputs": [],
   "source": [
    "#alternative way not in a row\n",
    "filename = '/Users/alexmichailidis/gg-extraction-2022/data/er_test.json'\n",
    "\n",
    "with open(filename, \"w\") as outfile:  # also, tried mode=\"rb\"\n",
    "    json.dump(relations, outfile, ensure_ascii=False, indent=2)"
   ]
  }
 ],
 "metadata": {
  "kernelspec": {
   "display_name": "Python 3.8.8 ('base')",
   "language": "python",
   "name": "python3"
  },
  "language_info": {
   "codemirror_mode": {
    "name": "ipython",
    "version": 3
   },
   "file_extension": ".py",
   "mimetype": "text/x-python",
   "name": "python",
   "nbconvert_exporter": "python",
   "pygments_lexer": "ipython3",
   "version": "3.8.8"
  },
  "orig_nbformat": 4,
  "vscode": {
   "interpreter": {
    "hash": "6d5740253967cb97090db0ea7fd8c56244c72c51cc6f624e1d067eac501d08a5"
   }
  }
 },
 "nbformat": 4,
 "nbformat_minor": 2
}

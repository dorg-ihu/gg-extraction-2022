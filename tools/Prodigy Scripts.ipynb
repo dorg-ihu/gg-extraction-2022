{
 "cells": [
  {
   "cell_type": "code",
   "execution_count": null,
   "metadata": {},
   "outputs": [],
   "source": [
    "prodigy ner.correct orgs_pd el_core_news_sm data/orgs_pd.txt --label ORG --unsegmented #unsegmented for not splitting sentences"
   ]
  },
  {
   "cell_type": "code",
   "execution_count": null,
   "metadata": {},
   "outputs": [],
   "source": [
    "#Export entire annotation\n",
    "prodigy db-out orgs_pd > ./orgs_pd.jsonl"
   ]
  },
  {
   "cell_type": "code",
   "execution_count": null,
   "metadata": {},
   "outputs": [],
   "source": [
    "#Export only patterns\n",
    "prodigy terms.to-patterns pd_ner --label PERSON,ORG --spacy-model el_core_news_sm > ./newpd.jsonl\n"
   ]
  }
 ],
 "metadata": {
  "kernelspec": {
   "display_name": "Python 3.8.8 ('base')",
   "language": "python",
   "name": "python3"
  },
  "language_info": {
   "codemirror_mode": {
    "name": "ipython",
    "version": 3
   },
   "file_extension": ".py",
   "mimetype": "text/x-python",
   "name": "python",
   "nbconvert_exporter": "python",
   "pygments_lexer": "ipython3",
   "version": "3.8.8"
  },
  "orig_nbformat": 4,
  "vscode": {
   "interpreter": {
    "hash": "6d5740253967cb97090db0ea7fd8c56244c72c51cc6f624e1d067eac501d08a5"
   }
  }
 },
 "nbformat": 4,
 "nbformat_minor": 2
}

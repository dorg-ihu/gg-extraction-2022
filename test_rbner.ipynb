{
 "cells": [
  {
   "cell_type": "code",
   "execution_count": 1,
   "metadata": {},
   "outputs": [
    {
     "name": "stderr",
     "output_type": "stream",
     "text": [
      "c:\\Users\\IK\\anaconda3\\envs\\py-3gm\\lib\\site-packages\\fuzzywuzzy\\fuzz.py:11: UserWarning: Using slow pure-python SequenceMatcher. Install python-Levenshtein to remove this warning\n",
      "  warnings.warn('Using slow pure-python SequenceMatcher. Install python-Levenshtein to remove this warning')\n",
      "c:\\Users\\IK\\anaconda3\\envs\\py-3gm\\lib\\site-packages\\tqdm\\auto.py:22: TqdmWarning: IProgress not found. Please update jupyter and ipywidgets. See https://ipywidgets.readthedocs.io/en/stable/user_install.html\n",
      "  from .autonotebook import tqdm as notebook_tqdm\n"
     ]
    }
   ],
   "source": [
    "from rbner.rbNER import rbNER"
   ]
  },
  {
   "cell_type": "code",
   "execution_count": 2,
   "metadata": {},
   "outputs": [
    {
     "name": "stderr",
     "output_type": "stream",
     "text": [
      "Some weights of the model checkpoint at nlpaueb/bert-base-greek-uncased-v1 were not used when initializing BertModel: ['cls.seq_relationship.bias', 'cls.predictions.bias', 'cls.predictions.transform.dense.bias', 'cls.predictions.transform.LayerNorm.bias', 'cls.predictions.decoder.bias', 'cls.predictions.decoder.weight', 'cls.predictions.transform.dense.weight', 'cls.predictions.transform.LayerNorm.weight', 'cls.seq_relationship.weight']\n",
      "- This IS expected if you are initializing BertModel from the checkpoint of a model trained on another task or with another architecture (e.g. initializing a BertForSequenceClassification model from a BertForPreTraining model).\n",
      "- This IS NOT expected if you are initializing BertModel from the checkpoint of a model that you expect to be exactly identical (initializing a BertForSequenceClassification model from a BertForSequenceClassification model).\n",
      "Some weights of the model checkpoint at nlpaueb/bert-base-greek-uncased-v1 were not used when initializing BertModel: ['cls.seq_relationship.bias', 'cls.predictions.bias', 'cls.predictions.transform.dense.bias', 'cls.predictions.transform.LayerNorm.bias', 'cls.predictions.decoder.bias', 'cls.predictions.decoder.weight', 'cls.predictions.transform.dense.weight', 'cls.predictions.transform.LayerNorm.weight', 'cls.seq_relationship.weight']\n",
      "- This IS expected if you are initializing BertModel from the checkpoint of a model trained on another task or with another architecture (e.g. initializing a BertForSequenceClassification model from a BertForPreTraining model).\n",
      "- This IS NOT expected if you are initializing BertModel from the checkpoint of a model that you expect to be exactly identical (initializing a BertForSequenceClassification model from a BertForSequenceClassification model).\n",
      "Some weights of the model checkpoint at nlpaueb/bert-base-greek-uncased-v1 were not used when initializing BertModel: ['cls.seq_relationship.bias', 'cls.predictions.bias', 'cls.predictions.transform.dense.bias', 'cls.predictions.transform.LayerNorm.bias', 'cls.predictions.decoder.bias', 'cls.predictions.decoder.weight', 'cls.predictions.transform.dense.weight', 'cls.predictions.transform.LayerNorm.weight', 'cls.seq_relationship.weight']\n",
      "- This IS expected if you are initializing BertModel from the checkpoint of a model trained on another task or with another architecture (e.g. initializing a BertForSequenceClassification model from a BertForPreTraining model).\n",
      "- This IS NOT expected if you are initializing BertModel from the checkpoint of a model that you expect to be exactly identical (initializing a BertForSequenceClassification model from a BertForSequenceClassification model).\n",
      "Some weights of the model checkpoint at nlpaueb/bert-base-greek-uncased-v1 were not used when initializing BertModel: ['cls.seq_relationship.bias', 'cls.predictions.bias', 'cls.predictions.transform.dense.bias', 'cls.predictions.transform.LayerNorm.bias', 'cls.predictions.decoder.bias', 'cls.predictions.decoder.weight', 'cls.predictions.transform.dense.weight', 'cls.predictions.transform.LayerNorm.weight', 'cls.seq_relationship.weight']\n",
      "- This IS expected if you are initializing BertModel from the checkpoint of a model trained on another task or with another architecture (e.g. initializing a BertForSequenceClassification model from a BertForPreTraining model).\n",
      "- This IS NOT expected if you are initializing BertModel from the checkpoint of a model that you expect to be exactly identical (initializing a BertForSequenceClassification model from a BertForSequenceClassification model).\n"
     ]
    }
   ],
   "source": [
    "rbner_obj = rbNER()"
   ]
  },
  {
   "cell_type": "code",
   "execution_count": 3,
   "metadata": {},
   "outputs": [
    {
     "name": "stdout",
     "output_type": "stream",
     "text": [
      "['Διάρθρωση Υπηρεσιών', 'Υπουργείου  Το Υπουργείο Υγείας', 'Πολιτικά Γραφεία Υπουργού και Υφυπουργών και  Γραφεία Γενικών Γραμματέων', 'Υπηρεσίες, Διευθύνσεις και Τμήματα', 'Σώμα Επιθεωρητών Υπηρεσιών Υγείας', 'Διορισμός Υπουργών, Αναπληρωτών', 'Εθνικό Κέντρο Επιχειρήσεων Υγείας', 'Υπουργών και Υφυπουργών', 'Διεύθυνση Ευρωπαϊκής και Διεθνούς Πολιτικής Υγείας', 'Μονάδα Διαμόρφωσης Πολιτικών Υγείας και Τουρισμού Υγείας', 'Τμήμα Νομοθετικής Πρωτοβουλίας, Κοινοβουλευτικού Ελέγχου και Κωδικοποίησης', 'Διεύθυνση Επιστημονικής Τεκμηρίωσης, Διοικητικής και Γραμματειακής Υποστήριξης', 'Κεντρικού Συμβουλίου Υγείας', 'Μονάδα Εσωτερικού Ελέγχου']\n"
     ]
    }
   ],
   "source": [
    "# Extract candidate unit entities through regex\n",
    "text = '''Διάρθρωση Υπηρεσιών του Υπουργείου  Το Υπουργείο Υγείας διαρθρώνεται ως εξής: 1. Πολιτικά Γραφεία Υπουργού και Υφυπουργών και  Γραφεία Γενικών Γραμματέων  2. Υπηρεσίες, Διευθύνσεις και Τμήματα υπαγόμενα απ’  ευθείας στον Υπουργό:  α) Σώμα Επιθεωρητών Υπηρεσιών Υγείας (Σ.Ε.Υ.Υ.)  (ν. 2920/2001 − Α΄ 131)  5. Το π.δ. 89/2014 «Διορισμός Υπουργών, Αναπληρωτών  β) Εθνικό Κέντρο Επιχειρήσεων Υγείας (ν. 3370/2006  Υπουργών και Υφυπουργών» (Α΄ 134).  − Α΄ 176)     γ) Διεύθυνση Ευρωπαϊκής και Διεθνούς Πολιτικής Υγείας δ) Μονάδα Διαμόρφωσης Πολιτικών Υγείας και Τουρισμού Υγείας, η οποία λειτουργεί σε επίπεδο τμήματος ε) Τμήμα Νομοθετικής Πρωτοβουλίας, Κοινοβουλευτικού Ελέγχου και Κωδικοποίησης  στ) Διεύθυνση Επιστημονικής Τεκμηρίωσης, Διοικητικής και Γραμματειακής Υποστήριξης του Κεντρικού Συμβουλίου Υγείας (ΚΕ.Σ.Υ.)  ζ) Μονάδα Εσωτερικού Ελέγχου, η οποία λειτουργεί σε  επίπεδο τμήματος'''\n",
    "reg_ents = rbner_obj.regex_entities(text)\n",
    "print(reg_ents)"
   ]
  },
  {
   "cell_type": "code",
   "execution_count": 5,
   "metadata": {},
   "outputs": [
    {
     "name": "stdout",
     "output_type": "stream",
     "text": [
      "Couldn't find entities with similarity higher than the threshold, instead the top 3 results are being returned\n",
      "Διάρθρωση Υπηρεσιών --> [('ΓΕΝΙΚΗ ΔΙΕΥΘΥΝΣΗ ΥΠΗΡΕΣΙΩΝ ΥΓΕΙΑΣ', 0.79), ('ΤΜΗΜΑ ΕΚΤΕΛΕΣΗΣ ΤΑΚΤΙΚΟΥ ΠΡΟΥΠΟΛΟΓΙΣΜΟΥ ΛΟΙΠΩΝ ΠΕΡΙΦΕΡΕΙΑΚΩΝ ΚΑΙ ΕΙΔΙΚΩΝ ΠΕΡΙΦΕΡΕΙΑΚΩΝ ΥΠΗΡΕΣΙΩΝ', 0.74), ('ΔΙΕΥΘΥΝΣΗ ΣΧΕΔΙΑΣΜΟΥ ΚΑΙ ΔΙΑΧΕΙΡΙΣΗΣ ΥΠΗΡΕΣΙΩΝ ΥΔΑΤΟΣ', 0.74)] \n",
      "\n",
      "\n",
      "Couldn't find entities with similarity higher than the threshold, instead the top 3 results are being returned\n",
      "Υπουργείου  Το Υπουργείο Υγείας --> [('ΓΕΝΙΚΗ ΓΡΑΜΜΑΤΕΙΑ ΤΟΥ ΥΠΟΥΡΓΕΙΟΥ ΥΠΑΙΘ ΥΠΟΥΡΓΟΣ', 0.73), ('ΤΜΗΜΑ ΟΙΚΟΝΟΜΙΚΗΣ ΟΡΓΑΝΩΣΗΣ ΚΑΙ ΠΡΟΫΠΟΛΟΓΙΣΜΟΥ ΦΟΡΕΩΝ ΥΠΗΡΕΣΙΩΝ ΥΓΕΙΑΣ', 0.63), ('ΤΜΗΜΑ Α ΑΝΘΡΩΠΙΝΟΥ ΔΥΝΑΜΙΚΟΥ ΤΗΣ ΓΕΝΙΚΗΣ ΓΡΑΜΜΑΤΕΙΑΣ ΤΟΥ ΥΠΟΥΡΓΕΙΟΥ ΚΑΙ ΤΗΣ ΓΕΝΙΚΗΣ ΓΡΑΜΜΑΤΕΙΑΣ ΘΡΗΣΚΕΥΜΑΤΩΝ', 0.63)] \n",
      "\n",
      "\n",
      "Couldn't find entities with similarity higher than the threshold, instead the top 3 results are being returned\n",
      "Πολιτικά Γραφεία Υπουργού και Υφυπουργών και  Γραφεία Γενικών Γραμματέων --> [('ΓΕΝΙΚΗ ΓΡΑΜΜΑΤΕΙΑ ΔΑΣΩΝ', 0.78), ('ΓΡΑΦΕΙΟ ΝΟΜΙΚΩΝ ΘΕΜΑΤΩΝ', 0.7), ('ΥΠΗΡΕΣΙΑΚΟΣ ΓΕΝΙΚΟΣ ΓΡΑΜΜΑΤΕΑΣ', 0.68)] \n",
      "\n",
      "\n",
      "Couldn't find entities with similarity higher than the threshold, instead the top 3 results are being returned\n",
      "Υπηρεσίες, Διευθύνσεις και Τμήματα --> [('ΤΜΗΜΑ Α΄', 0.8), ('ΤΜΗΜΑ Β΄', 0.67), ('ΤΜΗΜΑ Γ΄', 0.67)] \n",
      "\n",
      "\n",
      "Couldn't find entities with similarity higher than the threshold, instead the top 3 results are being returned\n",
      "Σώμα Επιθεωρητών Υπηρεσιών Υγείας --> [('ΑΥΤΟΤΕΛΕΣ ΤΜΗΜΑ ΠΡΟΣΤΑΣΙΑΣ ΔΙΚΑΙΩΜΑΤΩΝ ΛΗΠΤΩΝ ΥΠΗΡΕΣΙΩΝ ΥΓΕΙΑΣ', 0.78), ('ΤΜΗΜΑ ΠΑΡΟΧΩΝ ΥΠΗΡΕΣΙΩΝ ΥΓΕΙΑΣ', 0.77), ('ΣΩΜΑ ΕΠΙΘΕΩΡΗΤΩΝ ΕΛΕΓΚΤΩΝ', 0.76)] \n",
      "\n",
      "\n",
      "Couldn't find entities with similarity higher than the threshold, instead the top 3 results are being returned\n",
      "Διορισμός Υπουργών, Αναπληρωτών --> [('ΑΥΤΟΤΕΛΕΣ ΤΜΗΜΑ ΕΚΤΙΜΗΣΕΩΝ ΚΑΙ ΠΡΟΣΔΙΟΡΙΣΜΟΥ ΑΞΙΩΝ ΑΚΙΝΗΤΩΝ', 0.67), ('ΤΜΗΜΑ ΚΕΝΤΡΟΥ ΕΡΕΥΝΑΣ ΚΑΙ ΜΕΤΡΗΣΕΩΝ ΠΡΟΣΔΙΟΡΙΣΜΟΥ ΒΛΑΠΤΙΚΩΝ ΠΑΡΑΓΟΝΤΩΝ ΓΙΑ ΤΗΝ ΥΑΕ', 0.6), ('ΠΕΡΙΦΕΡΕΙΑΚΗ ΥΠΗΡΕΣΙΑ ΤΟΥΡΙΣΜΟΥ ΙΟΝΙΩΝ ΝΗΣΩΝ', 0.58)] \n",
      "\n",
      "\n",
      "Couldn't find entities with similarity higher than the threshold, instead the top 3 results are being returned\n",
      "Εθνικό Κέντρο Επιχειρήσεων Υγείας --> [('ΤΜΗΜΑ ΕΠΙΧΟΡΗΓΗΣΕΩΝ', 0.63), ('ΤΜΗΜΑ ΕΠΙΘΕΩΡΗΣΕΩΝ ΕΞΟΠΛΙΣΜΟΥ', 0.62), ('ΤΜΗΜΑ ΤΟΥΡΙΣΤΙΚΩΝ ΕΠΙΧΕΙΡΗΣΕΩΝ ΚΑΙ ΕΠΑΓΓΕΛΜΑΤΩΝ', 0.61)] \n",
      "\n",
      "\n",
      "Couldn't find entities with similarity higher than the threshold, instead the top 3 results are being returned\n",
      "Υπουργών και Υφυπουργών --> [('ΓΕΝΙΚΗ ΓΡΑΜΜΑΤΕΙΑ ΕΝΩΣΙΑΚΩΝ ΠΟΡΩΝ ΚΑΙ ΥΠΟΔΟΜΩΝ', 0.71), ('ΤΜΗΜΑ ΣΥΛΛΟΓΗΣ ΕΙΚΟΝΩΝΤΟΙΧΟΓΡΑΦΙΩΝΨΗΦΙΔΩΤΩΝΑΝΤΙΓΡΑΦΩΝΧΕΙΡΟΓΡΑΦΩΝΑΝΘΙΒΟΛΩΝΧΑΡΑΚΤΙΚΩΝΣΧΕΔΙΩΝΠΑΛΑΙΟΤΥΠΩΝ ΚΑΙ ΣΥΛΛΟΓΩΝ', 0.7), ('ΓΕΝΙΚΗ ΓΡΑΜΜΑΤΕΙΑ ΤΟΥ ΥΠΟΥΡΓΕΙΟΥ ΥΠΑΙΘ ΥΠΟΥΡΓΟΣ', 0.7)] \n",
      "\n",
      "\n",
      "Couldn't find entities with similarity higher than the threshold, instead the top 3 results are being returned\n",
      "Διεύθυνση Ευρωπαϊκής και Διεθνούς Πολιτικής Υγείας --> [('ΔΙΕΥΘΥΝΣΗ ΕΡΕΥΝΑΣ', 0.76), ('ΔΙΕΥΘΥΝΣΗ ΕΥΡΩΠΑΪΚΗΣ ΚΑΙ ΔΙΕΘΝΟΥΣ ΣΥΝΕΡΓΑΣΙΑΣ', 0.76), ('ΥΠΟΔΙΕΥΘΥΝΣΗ', 0.75)] \n",
      "\n",
      "\n",
      "Couldn't find entities with similarity higher than the threshold, instead the top 3 results are being returned\n",
      "Μονάδα Διαμόρφωσης Πολιτικών Υγείας και Τουρισμού Υγείας --> [('ΤΜΗΜΑ ΚΑΘΟΡΙΣΜΟΥ ΙΘΑΓΕΝΕΙΑΣ', 0.68), ('ΤΜΗΜΑ ΔΙΑΤΡΟΦΙΚΗΣ ΠΟΛΙΤΙΚΗΣ', 0.67), ('ΑΥΤΟΤΕΛΕΣ ΤΜΗΜΑ ΤΟΥΡΙΣΜΟΥ ΥΓΕΙΑΣ', 0.66)] \n",
      "\n",
      "\n",
      "Τμήμα Νομοθετικής Πρωτοβουλίας, Κοινοβουλευτικού Ελέγχου και Κωδικοποίησης --> [('ΑΥΤΟΤΕΛΕΣ ΤΜΗΜΑ ΝΟΜΟΘΕΤΙΚΗΣ ΠΡΩΤΟΒΟΥΛΙΑΣ ΚΟΙΝΟΒΟΥΛΕΥΤΙΚΟΥ ΕΛΕΓΧΟΥ ΚΑΙ ΚΩΔΙΚΟΠΟΙΗΣΗΣ', 1.0), ('ΤΜΗΜΑ ΝΟΜΟΘΕΤΙΚΗΣ ΠΡΩΤΟΒΟΥΛΙΑΣ', 1.0), ('ΤΜΗΜΑ ΝΟΜΟΘΕΤΙΚΗΣ ΠΡΩΤΟΒΟΥΛΙΑΣ', 1.0)] \n",
      "\n",
      "\n",
      "Διεύθυνση Επιστημονικής Τεκμηρίωσης, Διοικητικής και Γραμματειακής Υποστήριξης --> [('ΔΙΕΥΘΥΝΣΗ ΕΠΙΣΤΗΜΟΝΙΚΗΣ ΤΕΚΜΗΡΙΩΣΗΣ ΔΙΟΙΚΗΤΙΚΗΣ ΚΑΙ ΓΡΑΜΜΑΤΕΙΑΚΗΣ ΥΠΟΣΤΗΡΙΞΗΣ ΚΕΝΤΡΙΚΟΥ ΣΥΜΒΟΥΛΙΟΥ ΥΓΕΙΑΣ ΚΕΣΥ', 1.0)] \n",
      "\n",
      "\n",
      "Κεντρικού Συμβουλίου Υγείας --> [('ΔΙΕΥΘΥΝΣΗ ΕΠΙΣΤΗΜΟΝΙΚΗΣ ΤΕΚΜΗΡΙΩΣΗΣ ΔΙΟΙΚΗΤΙΚΗΣ ΚΑΙ ΓΡΑΜΜΑΤΕΙΑΚΗΣ ΥΠΟΣΤΗΡΙΞΗΣ ΚΕΝΤΡΙΚΟΥ ΣΥΜΒΟΥΛΙΟΥ ΥΓΕΙΑΣ ΚΕΣΥ', 1.0)] \n",
      "\n",
      "\n",
      "Μονάδα Εσωτερικού Ελέγχου --> [('ΜΟΝΑΔΑ ΕΣΩΤΕΡΙΚΟΥ ΕΛΕΓΧΟΥ', 1.0), ('ΜΟΝΑΔΑ ΕΣΩΤΕΡΙΚΟΥ ΕΛΕΓΧΟΥ', 1.0), ('ΜΟΝΑΔΑ ΕΣΩΤΕΡΙΚΟΥ ΕΛΕΓΧΟΥ', 1.0), ('ΜΟΝΑΔΑ ΕΣΩΤΕΡΙΚΟΥ ΕΛΕΓΧΟΥ', 1.0), ('ΜΟΝΑΔΑ ΕΣΩΤΕΡΙΚΟΥ ΕΛΕΓΧΟΥ', 1.0), ('ΜΟΝΑΔΑ ΕΣΩΤΕΡΙΚΟΥ ΕΛΕΓΧΟΥ', 1.0), ('ΜΟΝΑΔΑ ΕΣΩΤΕΡΙΚΟΥ ΕΛΕΓΧΟΥ', 1.0), ('ΜΟΝΑΔΑ ΕΣΩΤΕΡΙΚΟΥ ΕΛΕΓΧΟΥ', 1.0), ('ΜΟΝΑΔΑ ΕΣΩΤΕΡΙΚΟΥ ΕΛΕΓΧΟΥ', 1.0), ('ΜΟΝΑΔΑ ΕΣΩΤΕΡΙΚΟΥ ΕΛΕΓΧΟΥ', 1.0), ('ΜΟΝΑΔΑ ΕΣΩΤΕΡΙΚΟΥ ΕΛΕΓΧΟΥ ΜΕΕ', 1.0), ('ΑΥΤΟΤΕΛΗΣ ΜΟΝΑΔΑ ΕΣΩΤΕΡΙΚΟΥ ΕΛΕΓΧΟΥ', 1.0)] \n",
      "\n",
      "\n"
     ]
    }
   ],
   "source": [
    "# Comparing extracted reg_entities to the gazetter list\n",
    "for reg_ent in reg_ents:\n",
    "    gaz_ents = rbner_obj.gazetter_entities(reg_ent)\n",
    "    print(f\"{reg_ent} --> {gaz_ents} \\n\\n\")"
   ]
  },
  {
   "cell_type": "code",
   "execution_count": 6,
   "metadata": {},
   "outputs": [
    {
     "name": "stdout",
     "output_type": "stream",
     "text": [
      "Couldn't find entities with similarity higher than the threshold, instead the top 3 results are being returned\n",
      "[('ΑΥΤΟΤΕΛΕΣ ΤΜΗΜΑ ΝΟΜΟΘΕΤΙΚΗΣ ΠΡΩΤΟΒΟΥΛΙΑΣ ΚΟΙΝΟΒΟΥΛΕΥΤΙΚΟΥ ΕΛΕΓΧΟΥ ΚΑΙ ΚΩΔΙΚΟΠΟΙΗΣΗΣ', 0.94), ('ΤΜΗΜΑ ΔΙΟΙΚΗΤΙΚΗΣ ΚΑΙ ΤΕΧΝΙΚΗΣ ΥΠΟΣΤΗΡΙΞΗΣ', 0.83), ('ΤΜΗΜΑ ΤΕΧΝΙΚΗΣ ΥΠΟΣΤΗΡΙΞΗΣ', 0.81)]\n"
     ]
    }
   ],
   "source": [
    "# Compare gazetter list to a whole article\n",
    "comb_gaz_ents = rbner_obj.gazetter_entities(text)\n",
    "print(comb_gaz_ents)"
   ]
  },
  {
   "cell_type": "code",
   "execution_count": 13,
   "metadata": {},
   "outputs": [
    {
     "data": {
      "text/plain": [
       "'ΔΙΑΡΘΡΩΣΗ ΥΠΗΡΕΣΙΩΝ ΤΟΥ ΥΠΟΥΡΓΕΙΟΥ  ΤΟ ΥΠΟΥΡΓΕΙΟ ΥΓΕΙΑΣ ΔΙΑΡΘΡΩΝΕΤΑΙ ΩΣ ΕΞΗΣ: 1. ΠΟΛΙΤΙΚΑ ΓΡΑΦΕΙΑ ΥΠΟΥΡΓΟΥ ΚΑΙ ΥΦΥΠΟΥΡΓΩΝ ΚΑΙ  ΓΡΑΦΕΙΑ ΓΕΝΙΚΩΝ ΓΡΑΜΜΑΤΕΩΝ  2. ΥΠΗΡΕΣΙΕΣ, ΔΙΕΥΘΥΝΣΕΙΣ ΚΑΙ ΤΜΗΜΑΤΑ ΥΠΑΓΟΜΕΝΑ ΑΠ’  ΕΥΘΕΙΑΣ ΣΤΟΝ ΥΠΟΥΡΓΟ:  Α) ΣΩΜΑ ΕΠΙΘΕΩΡΗΤΩΝ ΥΠΗΡΕΣΙΩΝ ΥΓΕΙΑΣ (Σ.Ε.Υ.Υ.)  (Ν. 2920/2001 − Α΄ 131)  5. ΤΟ Π.Δ. 89/2014 «ΔΙΟΡΙΣΜΟΣ ΥΠΟΥΡΓΩΝ, ΑΝΑΠΛΗΡΩΤΩΝ  Β) ΕΘΝΙΚΟ ΚΕΝΤΡΟ ΕΠΙΧΕΙΡΗΣΕΩΝ ΥΓΕΙΑΣ (Ν. 3370/2006  ΥΠΟΥΡΓΩΝ ΚΑΙ ΥΦΥΠΟΥΡΓΩΝ» (Α΄ 134).  − Α΄ 176)     Γ) ΔΙΕΥΘΥΝΣΗ ΕΥΡΩΠΑΪΚΗΣ ΚΑΙ ΔΙΕΘΝΟΥΣ ΠΟΛΙΤΙΚΗΣ ΥΓΕΙΑΣ Δ) ΜΟΝΑΔΑ ΔΙΑΜΟΡΦΩΣΗΣ ΠΟΛΙΤΙΚΩΝ ΥΓΕΙΑΣ ΚΑΙ ΤΟΥΡΙΣΜΟΥ ΥΓΕΙΑΣ, Η ΟΠΟΙΑ ΛΕΙΤΟΥΡΓΕΙ ΣΕ ΕΠΙΠΕΔΟ ΤΜΗΜΑΤΟΣ Ε) ΤΜΗΜΑ ΝΟΜΟΘΕΤΙΚΗΣ ΠΡΩΤΟΒΟΥΛΙΑΣ, ΚΟΙΝΟΒΟΥΛΕΥΤΙΚΟΥ ΕΛΕΓΧΟΥ ΚΑΙ ΚΩΔΙΚΟΠΟΙΗΣΗΣ  ΣΤ) ΔΙΕΥΘΥΝΣΗ ΕΠΙΣΤΗΜΟΝΙΚΗΣ ΤΕΚΜΗΡΙΩΣΗΣ, ΔΙΟΙΚΗΤΙΚΗΣ ΚΑΙ ΓΡΑΜΜΑΤΕΙΑΚΗΣ ΥΠΟΣΤΗΡΙΞΗΣ ΤΟΥ ΚΕΝΤΡΙΚΟΥ ΣΥΜΒΟΥΛΙΟΥ ΥΓΕΙΑΣ (ΚΕ.Σ.Υ.)  Ζ) ΜΟΝΑΔΑ ΕΣΩΤΕΡΙΚΟΥ ΕΛΕΓΧΟΥ, Η ΟΠΟΙΑ ΛΕΙΤΟΥΡΓΕΙ ΣΕ  ΕΠΙΠΕΔΟ ΤΜΗΜΑΤΟΣ'"
      ]
     },
     "execution_count": 13,
     "metadata": {},
     "output_type": "execute_result"
    }
   ],
   "source": [
    "rbner_obj.remove_accents(text)"
   ]
  },
  {
   "cell_type": "code",
   "execution_count": 14,
   "metadata": {},
   "outputs": [
    {
     "name": "stdout",
     "output_type": "stream",
     "text": [
      "{'Σ.Ε.Υ.Υ.', 'ΚΕ.Σ.Υ.', 'π.δ.'}\n"
     ]
    }
   ],
   "source": [
    "acrs = rbner_obj.acronyms(text)\n",
    "print(acrs)"
   ]
  },
  {
   "cell_type": "code",
   "execution_count": 23,
   "metadata": {},
   "outputs": [
    {
     "name": "stdout",
     "output_type": "stream",
     "text": [
      "υπουργειο --> B-ORG\n",
      "υγειας --> E-ORG\n",
      "σωμα --> B-ORG\n",
      "επιθεωρητων --> I-ORG\n",
      "υπηρεσιων --> I-ORG\n",
      "υγειας --> E-ORG\n",
      "σ --> S-ORG\n",
      "ε --> I-ORG\n",
      ". --> I-ORG\n",
      "υ --> I-ORG\n",
      "υ --> E-ORG\n",
      "εθνικο --> B-ORG\n",
      "κεντρο --> I-ORG\n",
      "επιχειρησεων --> I-ORG\n",
      "υγειας --> E-ORG\n",
      "διευθυνση --> B-ORG\n",
      "ευρωπαικης --> I-ORG\n",
      "και --> I-ORG\n",
      "διεθνους --> I-ORG\n",
      "πολιτικης --> I-ORG\n",
      "υγειας --> E-ORG\n",
      "μοναδα --> B-ORG\n",
      "διαμορφωσης --> I-ORG\n",
      "υγειας --> I-ORG\n",
      "και --> I-ORG\n",
      "τουρισμου --> I-ORG\n",
      "υγειας --> E-ORG\n",
      "διευθυνση --> B-ORG\n",
      "επιστημονικης --> I-ORG\n",
      "τεκμηριωσης --> I-ORG\n",
      ", --> I-ORG\n",
      "διοικητικης --> I-ORG\n",
      "και --> I-ORG\n",
      "γραμματειακης --> I-ORG\n",
      "υποστηριξης --> E-ORG\n",
      "κεντρικου --> B-ORG\n",
      "συμβουλιου --> I-ORG\n",
      "υγειας --> E-ORG\n",
      "κε --> S-ORG\n",
      ". --> E-ORG\n",
      "σ --> E-ORG\n",
      ". --> E-ORG\n",
      "υ --> E-ORG\n",
      "μοναδα --> B-ORG\n",
      "εσωτερικου --> I-ORG\n",
      "ελεγχου --> E-ORG\n"
     ]
    }
   ],
   "source": [
    "# Test gr-nlp-toolkit\n",
    "gnt_doc = rbner_obj.grnlptoolkit(text)\n",
    "for token in gnt_doc.tokens:\n",
    "    # print(f\"{token.text} --> {token.ner}\")\n",
    "    if token.ner in [\"S-ORG\",'I-ORG','B-ORG','E-ORG']:\n",
    "\n",
    "        print(f\"{token.text} --> {token.ner}\") # the text of the token\n",
    "\n",
    "        # print(token.ner) # the named entity label in IOBES encoding : str\n",
    "\n",
    "        # print(token.upos) # the UPOS tag of the token\n",
    "        # print(token.feats) # the morphological features for the token\n",
    "\n",
    "        # print(token.head) # the head of the token\n",
    "        # print(token.deprel) # the dependency relation between the current token and its head"
   ]
  },
  {
   "cell_type": "code",
   "execution_count": 25,
   "metadata": {},
   "outputs": [
    {
     "name": "stdout",
     "output_type": "stream",
     "text": [
      "διαρθρωση --> NOUN --- nsubj:pass --- 8\n",
      "υπηρεσιων --> NOUN --- nmod --- 1\n",
      "του --> DET --- det --- 4\n",
      "υπουργειου --> NOUN --- nmod --- 2\n",
      "το --> DET --- det --- 6\n",
      "υπουργειο --> NOUN --- nsubj:pass --- 8\n",
      "υγειας --> NOUN --- nmod --- 6\n",
      "διαρθρωνεται --> VERB --- root --- 0\n",
      "ως --> ADV --- case --- 10\n",
      "εξης --> ADV --- obl --- 8\n",
      ": --> PUNCT --- punct --- 8\n",
      "1 --> NOUN --- punct --- 15\n",
      ". --> PUNCT --- punct --- 8\n",
      "πολιτικα --> ADJ --- amod --- 15\n",
      "γραφεια --> NOUN --- conj --- 8\n",
      "υπουργου --> NOUN --- nmod --- 15\n",
      "και --> CCONJ --- cc --- 18\n",
      "υφυπουργων --> NOUN --- conj --- 16\n",
      "και --> CCONJ --- cc --- 20\n",
      "γραφεια --> NOUN --- conj --- 15\n",
      "γενικων --> ADJ --- amod --- 22\n",
      "γραμματεων --> NOUN --- nmod --- 20\n",
      "2 --> NOUN --- discourse --- 15\n",
      ". --> PUNCT --- punct --- 8\n",
      "υπηρεσιες --> NOUN --- nsubj:pass --- 8\n",
      ", --> PUNCT --- punct --- 27\n",
      "διευθυνσεις --> NOUN --- conj --- 15\n",
      "και --> CCONJ --- cc --- 20\n",
      "τμηματα --> NOUN --- conj --- 15\n",
      "υπαγομενα --> VERB --- amod --- 15\n",
      "απ --> ADP --- case --- 33\n",
      "’ --> PUNCT --- case --- 33\n",
      "ευθειας --> ADV --- obl --- 30\n",
      "στον --> DET --- case --- 35\n",
      "υπουργο --> NOUN --- obl --- 30\n",
      ": --> PUNCT --- punct --- 15\n",
      "α --> NOUN --- amod --- 15\n",
      ") --> PUNCT --- punct --- 15\n",
      "σωμα --> NOUN --- conj --- 8\n",
      "επιθεωρητων --> NOUN --- nmod --- 39\n",
      "υπηρεσιων --> NOUN --- nmod --- 40\n",
      "υγειας --> NOUN --- nmod --- 115\n",
      "( --> PUNCT --- punct --- 44\n",
      "σ --> NOUN --- nmod --- 39\n",
      ". --> PUNCT --- punct --- 85\n",
      "ε --> NOUN --- nmod --- 85\n",
      ". --> PUNCT --- punct --- 152\n",
      "υ --> NOUN --- nmod --- 152\n",
      ". --> PUNCT --- punct --- 152\n",
      "υ --> NOUN --- nmod --- 118\n",
      ". --> PUNCT --- punct --- 54\n",
      ") --> PUNCT --- punct --- 54\n",
      "( --> PUNCT --- punct --- 54\n",
      "ν --> NOUN --- nmod --- 15\n",
      ". --> PUNCT --- punct --- 54\n",
      "2920 --> NOUN --- flat --- 54\n",
      "/ --> NOUN --- punct --- 58\n",
      "2001 --> NOUN --- nmod --- 54\n",
      "− --> PUNCT --- punct --- 54\n",
      "α΄ --> NOUN --- aux --- 54\n",
      "131 --> NUM --- flat --- 54\n",
      ") --> PUNCT --- punct --- 96\n",
      "5 --> NOUN --- discourse --- 15\n",
      ". --> PUNCT --- punct --- 8\n",
      "το --> DET --- det --- 66\n",
      "π --> NOUN --- conj --- 8\n",
      ". --> PUNCT --- punct --- 8\n",
      "δ --> NOUN --- flat --- 6\n",
      ". --> PUNCT --- punct --- 6\n",
      "89 --> NOUN --- nmod --- 39\n",
      "/ --> NOUN --- punct --- 4\n",
      "2014 --> NOUN --- nmod --- 15\n",
      "« --> PUNCT --- punct --- 74\n",
      "διορισμος --> NOUN --- acl --- 39\n",
      "υπουργων --> NOUN --- nmod --- 129\n",
      ", --> PUNCT --- punct --- 77\n",
      "αναπληρωτων --> NOUN --- conj --- 75\n",
      "β --> NOUN --- amod --- 81\n",
      ") --> PUNCT --- punct --- 81\n",
      "εθνικο --> ADJ --- amod --- 81\n",
      "κεντρο --> NOUN --- conj --- 74\n",
      "επιχειρησεων --> NOUN --- nmod --- 81\n",
      "υγειας --> NOUN --- nmod --- 82\n",
      "( --> PUNCT --- punct --- 85\n",
      "ν --> NOUN --- nmod --- 85\n",
      ". --> PUNCT --- punct --- 85\n",
      "3370 --> NOUN --- flat --- 85\n",
      "/ --> NOUN --- punct --- 89\n",
      "2006 --> NOUN --- nmod --- 85\n",
      "υπουργων --> NOUN --- nmod --- 85\n",
      "και --> CCONJ --- cc --- 92\n",
      "υφυπουργων --> NOUN --- conj --- 90\n",
      "» --> PUNCT --- punct --- 96\n",
      "( --> PUNCT --- punct --- 96\n",
      "α΄ --> NOUN --- case --- 96\n",
      "134 --> NUM --- orphan --- 96\n",
      ") --> PUNCT --- punct --- 96\n",
      ". --> PUNCT --- punct --- 8\n",
      "− --> PUNCT --- punct --- 101\n",
      "α΄ --> NOUN --- case --- 101\n",
      "176 --> NOUN --- conj --- 101\n",
      ") --> PUNCT --- punct --- 101\n",
      "γ --> NOUN --- amod --- 113\n",
      ") --> PUNCT --- punct --- 161\n",
      "διευθυνση --> NOUN --- conj --- 15\n",
      "ευρωπαικης --> ADJ --- amod --- 109\n",
      "και --> CCONJ --- cc --- 108\n",
      "διεθνους --> ADJ --- conj --- 106\n",
      "πολιτικης --> NOUN --- nmod --- 105\n",
      "υγειας --> NOUN --- nmod --- 109\n",
      "δ --> NOUN --- case --- 113\n",
      ") --> PUNCT --- punct --- 113\n",
      "μοναδα --> NOUN --- conj --- 8\n",
      "διαμορφωσης --> NOUN --- nmod --- 113\n",
      "πολιτικων --> NOUN --- nmod --- 114\n",
      "υγειας --> NOUN --- nmod --- 115\n",
      "και --> CCONJ --- cc --- 118\n",
      "τουρισμου --> NOUN --- conj --- 116\n",
      "υγειας --> NOUN --- nmod --- 118\n",
      ", --> PUNCT --- punct --- 123\n",
      "η --> DET --- det --- 122\n",
      "οποια --> PRON --- nsubj --- 123\n",
      "λειτουργει --> VERB --- acl:relcl --- 113\n",
      "σε --> ADP --- case --- 125\n",
      "επιπεδο --> NOUN --- obl --- 123\n",
      "τμηματος --> NOUN --- nmod --- 125\n",
      "ε --> NOUN --- amod --- 81\n",
      ") --> PUNCT --- punct --- 81\n",
      "τμημα --> NOUN --- conj --- 8\n",
      "νομοθετικης --> ADJ --- amod --- 131\n",
      "πρωτοβουλιας --> NOUN --- nmod --- 129\n",
      ", --> PUNCT --- punct --- 134\n",
      "κοινοβουλευτικου --> ADJ --- amod --- 134\n",
      "ελεγχου --> NOUN --- conj --- 131\n",
      "και --> CCONJ --- cc --- 136\n",
      "κωδικοποιησης --> NOUN --- conj --- 106\n",
      "στ --> NOUN --- amod --- 113\n",
      ") --> PUNCT --- punct --- 161\n",
      "διευθυνση --> NOUN --- conj --- 8\n",
      "επιστημονικης --> ADJ --- amod --- 141\n",
      "τεκμηριωσης --> NOUN --- nmod --- 161\n",
      ", --> PUNCT --- punct --- 77\n",
      "διοικητικης --> ADJ --- conj --- 134\n",
      "και --> CCONJ --- cc --- 136\n",
      "γραμματειακης --> ADJ --- conj --- 106\n",
      "υποστηριξης --> NOUN --- conj --- 129\n",
      "του --> DET --- det --- 149\n",
      "κεντρικου --> ADJ --- amod --- 149\n",
      "συμβουλιου --> NOUN --- nmod --- 131\n",
      "υγειας --> NOUN --- nmod --- 149\n",
      "( --> PUNCT --- punct --- 152\n",
      "κε --> NOUN --- nmod --- 81\n",
      ". --> PUNCT --- punct --- 152\n",
      "σ --> NOUN --- nmod --- 152\n",
      ". --> PUNCT --- punct --- 8\n",
      "υ --> NOUN --- nmod --- 152\n",
      ". --> PUNCT --- punct --- 152\n",
      ") --> PUNCT --- punct --- 152\n",
      "ζ --> NOUN --- parataxis --- 161\n",
      ") --> PUNCT --- punct --- 161\n",
      "μοναδα --> NOUN --- conj --- 8\n",
      "εσωτερικου --> ADJ --- amod --- 163\n",
      "ελεγχου --> NOUN --- nmod --- 161\n",
      ", --> PUNCT --- punct --- 167\n",
      "η --> DET --- det --- 166\n",
      "οποια --> PRON --- nsubj --- 167\n",
      "λειτουργει --> VERB --- acl:relcl --- 161\n",
      "σε --> ADP --- case --- 125\n",
      "επιπεδο --> NOUN --- obl --- 123\n",
      "τμηματος --> NOUN --- nmod --- 169\n"
     ]
    }
   ],
   "source": [
    "for token in gnt_doc.tokens:\n",
    "    # print(f\"{token.text} --> {token.ner}\")\n",
    "\n",
    "    print(f\"{token.text} --> {token.upos} --- {token.deprel} --- {token.head}\") # the text of the token\n",
    "\n",
    "    # print(token.ner) # the named entity label in IOBES encoding : str\n",
    "\n",
    "    # print(token.upos) # the UPOS tag of the token\n",
    "    # print(token.feats) # the morphological features for the token\n",
    "\n",
    "    # print(token.head) # the head of the token\n",
    "    # print(token.deprel) # the dependency relation between the current token and its head"
   ]
  },
  {
   "cell_type": "code",
   "execution_count": null,
   "metadata": {},
   "outputs": [],
   "source": [
    "# Testing greek-legal-bert-fine-tuned-ner\n",
    "https://huggingface.co/amichailidis/greek_legal_bert_v2-finetuned-ner?text=%CE%94%CE%B9%CE%AC%CF%81%CE%B8%CF%81%CF%89%CF%83%CE%B7+%CE%A5%CF%80%CE%B7%CF%81%CE%B5%CF%83%CE%B9%CF%8E%CE%BD+%CF%84%CE%BF%CF%85+%CE%A5%CF%80%CE%BF%CF%85%CF%81%CE%B3%CE%B5%CE%AF%CE%BF%CF%85++%CE%A4%CE%BF+%CE%A5%CF%80%CE%BF%CF%85%CF%81%CE%B3%CE%B5%CE%AF%CE%BF+%CE%A5%CE%B3%CE%B5%CE%AF%CE%B1%CF%82+%CE%B4%CE%B9%CE%B1%CF%81%CE%B8%CF%81%CF%8E%CE%BD%CE%B5%CF%84%CE%B1%CE%B9+%CF%89%CF%82+%CE%B5%CE%BE%CE%AE%CF%82%3A+1.+%CE%A0%CE%BF%CE%BB%CE%B9%CF%84%CE%B9%CE%BA%CE%AC+%CE%93%CF%81%CE%B1%CF%86%CE%B5%CE%AF%CE%B1+%CE%A5%CF%80%CE%BF%CF%85%CF%81%CE%B3%CE%BF%CF%8D+%CE%BA%CE%B1%CE%B9+%CE%A5%CF%86%CF%85%CF%80%CE%BF%CF%85%CF%81%CE%B3%CF%8E%CE%BD+%CE%BA%CE%B1%CE%B9++%CE%93%CF%81%CE%B1%CF%86%CE%B5%CE%AF%CE%B1+%CE%93%CE%B5%CE%BD%CE%B9%CE%BA%CF%8E%CE%BD+%CE%93%CF%81%CE%B1%CE%BC%CE%BC%CE%B1%CF%84%CE%AD%CF%89%CE%BD++2.+%CE%A5%CF%80%CE%B7%CF%81%CE%B5%CF%83%CE%AF%CE%B5%CF%82%2C+%CE%94%CE%B9%CE%B5%CF%85%CE%B8%CF%8D%CE%BD%CF%83%CE%B5%CE%B9%CF%82+%CE%BA%CE%B1%CE%B9+%CE%A4%CE%BC%CE%AE%CE%BC%CE%B1%CF%84%CE%B1+%CF%85%CF%80%CE%B1%CE%B3%CF%8C%CE%BC%CE%B5%CE%BD%CE%B1+%CE%B1%CF%80%E2%80%99++%CE%B5%CF%85%CE%B8%CE%B5%CE%AF%CE%B1%CF%82+%CF%83%CF%84%CE%BF%CE%BD+%CE%A5%CF%80%CE%BF%CF%85%CF%81%CE%B3%CF%8C%3A++%CE%B1%29+%CE%A3%CF%8E%CE%BC%CE%B1+%CE%95%CF%80%CE%B9%CE%B8%CE%B5%CF%89%CF%81%CE%B7%CF%84%CF%8E%CE%BD+%CE%A5%CF%80%CE%B7%CF%81%CE%B5%CF%83%CE%B9%CF%8E%CE%BD+%CE%A5%CE%B3%CE%B5%CE%AF%CE%B1%CF%82+%28%CE%A3.%CE%95.%CE%A5.%CE%A5.%29++%28%CE%BD.+2920%2F2001+%E2%88%92+%CE%91%CE%84+131%29++5.+%CE%A4%CE%BF+%CF%80.%CE%B4.+89%2F2014+%C2%AB%CE%94%CE%B9%CE%BF%CF%81%CE%B9%CF%83%CE%BC%CF%8C%CF%82+%CE%A5%CF%80%CE%BF%CF%85%CF%81%CE%B3%CF%8E%CE%BD%2C+%CE%91%CE%BD%CE%B1%CF%80%CE%BB%CE%B7%CF%81%CF%89%CF%84%CF%8E%CE%BD++%CE%B2%29+%CE%95%CE%B8%CE%BD%CE%B9%CE%BA%CF%8C+%CE%9A%CE%AD%CE%BD%CF%84%CF%81%CE%BF+%CE%95%CF%80%CE%B9%CF%87%CE%B5%CE%B9%CF%81%CE%AE%CF%83%CE%B5%CF%89%CE%BD+%CE%A5%CE%B3%CE%B5%CE%AF%CE%B1%CF%82+%28%CE%BD.+3370%2F2006++%CE%A5%CF%80%CE%BF%CF%85%CF%81%CE%B3%CF%8E%CE%BD+%CE%BA%CE%B1%CE%B9+%CE%A5%CF%86%CF%85%CF%80%CE%BF%CF%85%CF%81%CE%B3%CF%8E%CE%BD%C2%BB+%28%CE%91%CE%84+134%29.++%E2%88%92+%CE%91%CE%84+176%29+++++%CE%B3%29+%CE%94%CE%B9%CE%B5%CF%8D%CE%B8%CF%85%CE%BD%CF%83%CE%B7+%CE%95%CF%85%CF%81%CF%89%CF%80%CE%B1%CF%8A%CE%BA%CE%AE%CF%82+%CE%BA%CE%B1%CE%B9+%CE%94%CE%B9%CE%B5%CE%B8%CE%BD%CE%BF%CF%8D%CF%82+%CE%A0%CE%BF%CE%BB%CE%B9%CF%84%CE%B9%CE%BA%CE%AE%CF%82+%CE%A5%CE%B3%CE%B5%CE%AF%CE%B1%CF%82+%CE%B4%29+%CE%9C%CE%BF%CE%BD%CE%AC%CE%B4%CE%B1+%CE%94%CE%B9%CE%B1%CE%BC%CF%8C%CF%81%CF%86%CF%89%CF%83%CE%B7%CF%82+%CE%A0%CE%BF%CE%BB%CE%B9%CF%84%CE%B9%CE%BA%CF%8E%CE%BD+%CE%A5%CE%B3%CE%B5%CE%AF%CE%B1%CF%82+%CE%BA%CE%B1%CE%B9+%CE%A4%CE%BF%CF%85%CF%81%CE%B9%CF%83%CE%BC%CE%BF%CF%8D+%CE%A5%CE%B3%CE%B5%CE%AF%CE%B1%CF%82%2C+%CE%B7+%CE%BF%CF%80%CE%BF%CE%AF%CE%B1+%CE%BB%CE%B5%CE%B9%CF%84%CE%BF%CF%85%CF%81%CE%B3%CE%B5%CE%AF+%CF%83%CE%B5+%CE%B5%CF%80%CE%AF%CF%80%CE%B5%CE%B4%CE%BF+%CF%84%CE%BC%CE%AE%CE%BC%CE%B1%CF%84%CE%BF%CF%82+%CE%B5%29+%CE%A4%CE%BC%CE%AE%CE%BC%CE%B1+%CE%9D%CE%BF%CE%BC%CE%BF%CE%B8%CE%B5%CF%84%CE%B9%CE%BA%CE%AE%CF%82+%CE%A0%CF%81%CF%89%CF%84%CE%BF%CE%B2%CE%BF%CF%85%CE%BB%CE%AF%CE%B1%CF%82%2C+%CE%9A%CE%BF%CE%B9%CE%BD%CE%BF%CE%B2%CE%BF%CF%85%CE%BB%CE%B5%CF%85%CF%84%CE%B9%CE%BA%CE%BF%CF%8D+%CE%95%CE%BB%CE%AD%CE%B3%CF%87%CE%BF%CF%85+%CE%BA%CE%B1%CE%B9+%CE%9A%CF%89%CE%B4%CE%B9%CE%BA%CE%BF%CF%80%CE%BF%CE%AF%CE%B7%CF%83%CE%B7%CF%82++%CF%83%CF%84%29+%CE%94%CE%B9%CE%B5%CF%8D%CE%B8%CF%85%CE%BD%CF%83%CE%B7+%CE%95%CF%80%CE%B9%CF%83%CF%84%CE%B7%CE%BC%CE%BF%CE%BD%CE%B9%CE%BA%CE%AE%CF%82+%CE%A4%CE%B5%CE%BA%CE%BC%CE%B7%CF%81%CE%AF%CF%89%CF%83%CE%B7%CF%82%2C+%CE%94%CE%B9%CE%BF%CE%B9%CE%BA%CE%B7%CF%84%CE%B9%CE%BA%CE%AE%CF%82+%CE%BA%CE%B1%CE%B9+%CE%93%CF%81%CE%B1%CE%BC%CE%BC%CE%B1%CF%84%CE%B5%CE%B9%CE%B1%CE%BA%CE%AE%CF%82+%CE%A5%CF%80%CE%BF%CF%83%CF%84%CE%AE%CF%81%CE%B9%CE%BE%CE%B7%CF%82+%CF%84%CE%BF%CF%85+%CE%9A%CE%B5%CE%BD%CF%84%CF%81%CE%B9%CE%BA%CE%BF%CF%8D+%CE%A3%CF%85%CE%BC%CE%B2%CE%BF%CF%85%CE%BB%CE%AF%CE%BF%CF%85+%CE%A5%CE%B3%CE%B5%CE%AF%CE%B1%CF%82+%28%CE%9A%CE%95.%CE%A3.%CE%A5.%29++%CE%B6%29+%CE%9C%CE%BF%CE%BD%CE%AC%CE%B4%CE%B1+%CE%95%CF%83%CF%89%CF%84%CE%B5%CF%81%CE%B9%CE%BA%CE%BF%CF%8D+%CE%95%CE%BB%CE%AD%CE%B3%CF%87%CE%BF%CF%85%2C+%CE%B7+%CE%BF%CF%80%CE%BF%CE%AF%CE%B1+%CE%BB%CE%B5%CE%B9%CF%84%CE%BF%CF%85%CF%81%CE%B3%CE%B5%CE%AF+%CF%83%CE%B5++%CE%B5%CF%80%CE%AF%CF%80%CE%B5%CE%B4%CE%BF+%CF%84%CE%BC%CE%AE%CE%BC%CE%B1%CF%84%CE%BF%CF%82\n"
   ]
  }
 ],
 "metadata": {
  "kernelspec": {
   "display_name": "Python 3.9.12 ('py-3gm')",
   "language": "python",
   "name": "python3"
  },
  "language_info": {
   "codemirror_mode": {
    "name": "ipython",
    "version": 3
   },
   "file_extension": ".py",
   "mimetype": "text/x-python",
   "name": "python",
   "nbconvert_exporter": "python",
   "pygments_lexer": "ipython3",
   "version": "3.9.12"
  },
  "orig_nbformat": 4,
  "vscode": {
   "interpreter": {
    "hash": "3e9b913d57515fa2c7a4cda318cc8e2debe6e11e2e0fbe452d89627599d1ebb5"
   }
  }
 },
 "nbformat": 4,
 "nbformat_minor": 2
}
